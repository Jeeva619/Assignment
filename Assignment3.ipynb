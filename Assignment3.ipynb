{
 "cells": [
  {
   "cell_type": "code",
   "execution_count": 15,
   "id": "cc9c9f8e",
   "metadata": {},
   "outputs": [
    {
     "name": "stdout",
     "output_type": "stream",
     "text": [
      "100\n"
     ]
    }
   ],
   "source": [
    "#Question 3.1.1\n",
    "#Reduce function\n",
    "def myreduce(add,list_1):\n",
    "    return a\n",
    "def add(a,b):\n",
    "    return a+b\n",
    "list_1=[10,15,25,40,10]\n",
    "a=list_1[0]\n",
    "for i in range(1,len(list_1)):\n",
    "    b=list_1[i]\n",
    "    a=add(a,b)\n",
    "print(myreduce(add,list_1))"
   ]
  },
  {
   "cell_type": "code",
   "execution_count": 16,
   "id": "82bcd1c5",
   "metadata": {},
   "outputs": [
    {
     "name": "stdout",
     "output_type": "stream",
     "text": [
      "[2, 4, 6, 8, 10]\n"
     ]
    }
   ],
   "source": [
    "#Question 3.1.2\n",
    "#Filter Function\n",
    "def myfilter(is_even,list_2):\n",
    "    return is_even(a)\n",
    "list_2=[2,3,4,5,6,7,8,9,10]\n",
    "list_3=[]\n",
    "def is_even(a):\n",
    "    for i in list_2:\n",
    "        if i%2==0:\n",
    "            list_3.append(i)\n",
    "    print(list_3)\n",
    "myfilter(is_even,list_2)\n"
   ]
  },
  {
   "cell_type": "code",
   "execution_count": 25,
   "id": "9d42a2d0",
   "metadata": {},
   "outputs": [
    {
     "name": "stdout",
     "output_type": "stream",
     "text": [
      "ans1['x', 'xx', 'xxx', 'xxxx', 'y', 'yy', 'yyy', 'yyyy', 'z', 'zz', 'zzz', 'zzzz']\n",
      "ans2['x', 'y', 'z', 'xx', 'yy', 'zz', 'xxx', 'yyy', 'zzz', 'xxxx', 'yyyy', 'zzzz']\n",
      "ans4[[2, 3, 4, 5], [3, 4, 5, 6], [4, 5, 6, 7], [5, 6, 7, 8]]\n",
      "ans5[(1, 1), (2, 1), (3, 1), (1, 2), (2, 2), (3, 2), (1, 3), (2, 3), (3, 3)]\n"
     ]
    }
   ],
   "source": [
    "#Question 3.2\n",
    "#List of comprehensions\n",
    "input_list = ['x','y','z']\n",
    "result = [ item*num for item in input_list for num in range(1,5)  ]\n",
    "print(\"ans1\"+str(result))\n",
    "\n",
    "input_list = ['x','y','z']\n",
    "result = [ item*num for num in range(1,5) for item in input_list  ]\n",
    "print(\"ans2\" +   str(result))\n",
    "\n",
    "\n",
    "input_list = [2,3,4,5]\n",
    "result = [ [item+num for item in input_list] for num in range(0,4)  ]\n",
    "print(\"ans4\" +  str(result))\n",
    "\n",
    "input_list=[1,2,3]\n",
    "result = [ (b,a) for a in input_list for b in input_list]\n",
    "print(\"ans5\" +  str(result))"
   ]
  },
  {
   "cell_type": "code",
   "execution_count": null,
   "id": "963adcbc",
   "metadata": {},
   "outputs": [],
   "source": []
  }
 ],
 "metadata": {
  "kernelspec": {
   "display_name": "Python 3 (ipykernel)",
   "language": "python",
   "name": "python3"
  },
  "language_info": {
   "codemirror_mode": {
    "name": "ipython",
    "version": 3
   },
   "file_extension": ".py",
   "mimetype": "text/x-python",
   "name": "python",
   "nbconvert_exporter": "python",
   "pygments_lexer": "ipython3",
   "version": "3.9.7"
  }
 },
 "nbformat": 4,
 "nbformat_minor": 5
}
