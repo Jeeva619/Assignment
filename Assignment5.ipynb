{
 "cells": [
  {
   "cell_type": "code",
   "execution_count": 9,
   "id": "62376621",
   "metadata": {},
   "outputs": [
    {
     "name": "stdout",
     "output_type": "stream",
     "text": [
      "ZeroDivisionError: division by zero\n"
     ]
    }
   ],
   "source": [
    "#Question 1. Write a function to compute 5/0 and use try/except to catch the exceptions.\n",
    "def exception(x,y):\n",
    "    try:\n",
    "        div=x/y\n",
    "        return div\n",
    "    except:\n",
    "        print(\"ZeroDivisionError: division by zero\")\n",
    "exception(6,0)"
   ]
  },
  {
   "cell_type": "code",
   "execution_count": 12,
   "id": "3db69f0c",
   "metadata": {},
   "outputs": [
    {
     "data": {
      "text/plain": [
       "['Americans  play Baseball',\n",
       " 'Americans  play Cricket',\n",
       " 'Americans  watch Baseball',\n",
       " 'Americans  watch Cricket',\n",
       " 'Indians play Baseball',\n",
       " 'Indians play Cricket',\n",
       " 'Indians watch Baseball',\n",
       " 'Indians watch Cricket']"
      ]
     },
     "execution_count": 12,
     "metadata": {},
     "output_type": "execute_result"
    }
   ],
   "source": [
    "#Question 2 Implement a Python program to generate all sentences where subject is in\n",
    "#[\"Americans\", \"Indians\"] and verb is in [\"Play\", \"watch\"] and the object is in\n",
    "#[\"Baseball\",\"cricket\"].\n",
    "\n",
    "subjects=[\"Americans \",\"Indians\"]\n",
    "verbs=[\"play\",\"watch\"]\n",
    "objects=[\"Baseball\",\"Cricket\"]\n",
    "sent = [(sub +\" \"+ver+\" \" +obj) for sub in subjects for ver in verbs for obj in objects]\n",
    "sent"
   ]
  },
  {
   "cell_type": "code",
   "execution_count": null,
   "id": "45d68958",
   "metadata": {},
   "outputs": [],
   "source": []
  },
  {
   "cell_type": "code",
   "execution_count": null,
   "id": "cc9c9f8e",
   "metadata": {},
   "outputs": [],
   "source": []
  },
  {
   "cell_type": "code",
   "execution_count": null,
   "id": "82bcd1c5",
   "metadata": {},
   "outputs": [],
   "source": []
  },
  {
   "cell_type": "code",
   "execution_count": null,
   "id": "9d42a2d0",
   "metadata": {},
   "outputs": [],
   "source": []
  },
  {
   "cell_type": "code",
   "execution_count": null,
   "id": "42749c2d",
   "metadata": {},
   "outputs": [],
   "source": []
  },
  {
   "cell_type": "code",
   "execution_count": null,
   "id": "9d0791dc",
   "metadata": {},
   "outputs": [],
   "source": []
  },
  {
   "cell_type": "code",
   "execution_count": null,
   "id": "0f4e52b4",
   "metadata": {},
   "outputs": [],
   "source": []
  }
 ],
 "metadata": {
  "kernelspec": {
   "display_name": "Python 3 (ipykernel)",
   "language": "python",
   "name": "python3"
  },
  "language_info": {
   "codemirror_mode": {
    "name": "ipython",
    "version": 3
   },
   "file_extension": ".py",
   "mimetype": "text/x-python",
   "name": "python",
   "nbconvert_exporter": "python",
   "pygments_lexer": "ipython3",
   "version": "3.9.7"
  }
 },
 "nbformat": 4,
 "nbformat_minor": 5
}
